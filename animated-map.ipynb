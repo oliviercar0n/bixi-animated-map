{
 "cells": [
  {
   "cell_type": "code",
   "execution_count": null,
   "metadata": {},
   "outputs": [],
   "source": [
    "import pandas as pd\n",
    "import numpy as np\n",
    "from PIL import Image, ImageDraw, ImageFont\n",
    "import scipy.ndimage.filters\n",
    "from matplotlib.colors import LinearSegmentedColormap, rgb_to_hsv, hsv_to_rgb\n",
    "import polyline\n",
    "import folium\n",
    "import requests\n",
    "from urllib.parse import urlencode, quote\n",
    "import json\n",
    "from os import path\n",
    "import math\n",
    "import io\n",
    "import datetime\n",
    "import matplotlib.pyplot as plt\n",
    "from shapely.geometry import Point\n",
    "pd.options.mode.chained_assignment = None \n",
    "import geopandas as gpd"
   ]
  },
  {
   "cell_type": "code",
   "execution_count": null,
   "metadata": {},
   "outputs": [],
   "source": [
    "df = pd.read_csv('data/OD_2019-07.csv')\n",
    "st = pd.read_csv('data/Stations_2019.csv')"
   ]
  },
  {
   "cell_type": "code",
   "execution_count": null,
   "metadata": {},
   "outputs": [],
   "source": [
    "df['start_date'] = pd.to_datetime(df['start_date'])\n",
    "df['end_date'] = pd.to_datetime(df['end_date'])"
   ]
  },
  {
   "cell_type": "code",
   "execution_count": null,
   "metadata": {},
   "outputs": [],
   "source": [
    "df['hour'] = df['start_date'].map(lambda x : x.hour)\n",
    "df['dow'] = df['start_date'].map(lambda x : x.weekday())"
   ]
  },
  {
   "cell_type": "code",
   "execution_count": null,
   "metadata": {},
   "outputs": [],
   "source": [
    "data = df.merge(st, left_on = 'start_station_code', right_on = 'Code')\n",
    "data.rename(columns=dict(zip(st.columns.values,[\"start_station_\" + x.lower() for x in st.columns.values])),inplace = True)\n",
    "\n",
    "data = data.merge(st, left_on = 'end_station_code', right_on = 'Code')\n",
    "data.rename(columns=dict(zip(st.columns.values,[\"end_station_\" + x.lower() for x in st.columns.values])),inplace = True)\n",
    "data = data.loc[:,~data.columns.duplicated()]"
   ]
  },
  {
   "cell_type": "code",
   "execution_count": null,
   "metadata": {},
   "outputs": [],
   "source": [
    "def get_directions(c1,c2,s1,s2):\n",
    "    coord = quote(\"%f,%f;%f,%f\" % (c1[1],c1[0],c2[1],c2[0]))\n",
    "    url = 'https://api.mapbox.com/directions/v5/mapbox/cycling/' \n",
    "    params = {\n",
    "        'access_token': token,\n",
    "        'steps': 'false',\n",
    "        'alternatives': 'false',\n",
    "        'geometries': 'polyline'\n",
    "    }\n",
    "    r = requests.get(url+coord,params=params)\n",
    "    with open('directions/%s_%s.json' % (s1,s2), 'w') as outfile:\n",
    "        json.dump(r.json(), outfile)\n",
    "    \n",
    "    return r.json()['routes'][0]['geometry']"
   ]
  },
  {
   "cell_type": "code",
   "execution_count": null,
   "metadata": {},
   "outputs": [],
   "source": [
    "token = '###'"
   ]
  },
  {
   "cell_type": "code",
   "execution_count": null,
   "metadata": {},
   "outputs": [],
   "source": [
    "data = data.loc[:,~data.columns.duplicated()]\n",
    "comb = data.groupby(['start_station_code',\n",
    "              'start_station_latitude', \n",
    "              'start_station_longitude', \n",
    "              'end_station_code',\n",
    "              'end_station_latitude', \n",
    "              'end_station_longitude']\n",
    "            ).size().to_frame('count').reset_index().sort_values('count', ascending = False)"
   ]
  },
  {
   "cell_type": "code",
   "execution_count": null,
   "metadata": {},
   "outputs": [],
   "source": [
    "routes = comb[(comb.start_station_code != comb.end_station_code)].reset_index(drop=True)"
   ]
  },
  {
   "cell_type": "code",
   "execution_count": null,
   "metadata": {},
   "outputs": [],
   "source": [
    "for i, row in routes.iloc[0:30000].iterrows():\n",
    "    start_coord = (row['start_station_latitude'], row['start_station_longitude'])\n",
    "    end_coord = (row['end_station_latitude'],row['end_station_longitude'])\n",
    "    if not path.exists('directions/%s_%s.json' % (str(int(row['start_station_code'])),str(int(row['end_station_code'])))):\n",
    "        geom = get_directions(start_coord,\n",
    "                              end_coord,\n",
    "                              str(int(row['start_station_code'])),\n",
    "                              str(int(row['end_station_code']))\n",
    "                             )"
   ]
  },
  {
   "cell_type": "code",
   "execution_count": null,
   "metadata": {},
   "outputs": [],
   "source": [
    "def get_json_geometry(row):\n",
    "    s1 = str(int(row['start_station_code']))\n",
    "    s2 = str(int(row['end_station_code']))\n",
    "    fp = 'directions/%s_%s.json' % (s1,s2)\n",
    "    if not path.exists(fp):\n",
    "        start_coord = (row['start_station_latitude'], row['start_station_longitude'])\n",
    "        end_coord = (row['end_station_latitude'],row['end_station_longitude'])\n",
    "        get_directions(start_coord,end_coord,s1,s2)                                      \n",
    "    with open(fp) as f:\n",
    "        data = json.load(f)\n",
    "    return data['routes'][0]['geometry']"
   ]
  },
  {
   "cell_type": "code",
   "execution_count": null,
   "metadata": {},
   "outputs": [],
   "source": [
    "def get_polyline_length(coord):\n",
    "    length = 0\n",
    "    for i in range(len(coord)-1):\n",
    "        length += get_distance(coord[i], coord[i+1])\n",
    "    return length\n",
    "\n",
    "def get_distance(xy1,xy2):\n",
    "    return math.sqrt((xy2[0]-xy1[0])**2 + (xy2[1]-xy1[1])**2)\n",
    "\n",
    "def get_waypoint(coord,pct):\n",
    "    \n",
    "    tgt_dis = get_polyline_length(coord) * pct\n",
    "\n",
    "    tot_dis = 0\n",
    "    for i in range(len(coord)-1):\n",
    "        dis = get_distance(coord[i], coord[i+1])\n",
    "        tot_dis += dis\n",
    "        if tot_dis >= tgt_dis:\n",
    "            x1,y1 = coord[i]\n",
    "            x2,y2 = coord[i+1]\n",
    "            a = x2-x1\n",
    "            b = y2-y1\n",
    "            \n",
    "            \n",
    "            if a == 0 or b == 0:\n",
    "                waypoint = (x1+a,y1+b)\n",
    "                path = coord[:i+1]\n",
    "                break\n",
    "                \n",
    "            a = abs(a)\n",
    "            b = abs(b)\n",
    "            \n",
    "            c = math.sqrt(a**2 + b**2)\n",
    "\n",
    "            C = math.pi/2\n",
    "            \n",
    "            B = math.acos((a**2+c**2-b**2)/(2*a*c))\n",
    "            A = math.pi-B-C\n",
    "\n",
    "            X = A\n",
    "            Y = B\n",
    "            Z = C\n",
    "\n",
    "            z = dis - (tot_dis - tgt_dis)\n",
    "\n",
    "            x = z*math.sin(X)/math.sin(Z)\n",
    "            y = z*math.sin(Y)/math.sin(Z)\n",
    "            \n",
    "            x_fac = (x2-x1)/abs(x2-x1) if abs(x2-x1) > 0 else 1\n",
    "            y_fac = (y2-y1)/abs(y2-y1) if abs(y2-y1) > 0 else 1\n",
    "            \n",
    "            waypoint = (x1+x*x_fac,y1+y*y_fac)\n",
    "            path = coord[:i+1]\n",
    "            break\n",
    "            \n",
    "    path.append(waypoint)\n",
    "\n",
    "    my_dict = dict({\"waypoint\" : waypoint, \"path\":path})\n",
    "    return my_dict"
   ]
  },
  {
   "cell_type": "code",
   "execution_count": null,
   "metadata": {},
   "outputs": [],
   "source": [
    "def get_frame(bike_data, center, timestamp):\n",
    "\n",
    "    m = folium.Map(\n",
    "        location = center,\n",
    "        zoom_start = 12,\n",
    "        tiles = \"CartoDB dark_matter\"\n",
    "    )\n",
    "\n",
    "    for i, row in bike_data.iterrows():\n",
    "        if row['geometry'] is not None:\n",
    "            coord = polyline.decode(row['geometry'])\n",
    "            dur = (row['end_date'] - row['start_date']).seconds\n",
    "            ela = (timestamp - row['start_date']).seconds\n",
    "            factor = float(ela/dur)\n",
    "            xys = get_waypoint(coord,factor)['path']\n",
    "            folium.PolyLine(\n",
    "                xys,\n",
    "                opacity = 0.7, \n",
    "                smoothFactor = 3,\n",
    "                weight = 1,\n",
    "            ).add_to(m)\n",
    "\n",
    "    for i, row in bike_data.iterrows():\n",
    "        if row['geometry'] is not None:\n",
    "            coord = polyline.decode(row['geometry'])\n",
    "            dur = (row['end_date'] - row['start_date']).seconds\n",
    "            ela = (timestamp - row['start_date']).seconds\n",
    "            factor = float(ela/dur)\n",
    "            x,y = get_waypoint(coord,factor)['waypoint']\n",
    "\n",
    "            folium.Circle([x,y], radius = 0.01, color = 'white' ,opacity = 1,).add_to(m)\n",
    "    \n",
    "    im = Image.open(io.BytesIO(m._to_png()))\n",
    "    draw = ImageDraw.Draw(im)\n",
    "    font = ImageFont.truetype('Roboto-BoldCondensed.ttf',25)\n",
    "    draw.text((50, 125),str(timestamp),(255,255,255),font=font)\n",
    "    \n",
    "    return im"
   ]
  },
  {
   "cell_type": "code",
   "execution_count": null,
   "metadata": {
    "collapsed": true
   },
   "outputs": [],
   "source": [
    "start = datetime.datetime.now()\n",
    "\n",
    "start_datetime = datetime.datetime(2019,7,22,7,59,50)\n",
    "end_datetime = datetime.datetime(2019,7,22,9,30,0)\n",
    "\n",
    "delta = datetime.timedelta(seconds = 10)\n",
    "cnt = (end_datetime-start_datetime)/delta\n",
    "\n",
    "img = []\n",
    "while start_datetime < end_datetime:\n",
    "    current_datetime = start_datetime + delta\n",
    "    curr = cnt - (end_datetime-current_datetime)/delta\n",
    "    print(f\"Processing frame {str(int(curr))} of {str(int(cnt))} ({str(int(curr/cnt*100))}%)\")\n",
    "    subset = data[(data.start_date <= start_datetime) & (data.end_date > current_datetime) & (data.start_station_code != data.end_station_code)]\n",
    "    subset['geometry'] = subset.apply(lambda row: get_json_geometry(row), axis=1)\n",
    "    center = [data.start_station_latitude.mean(),data.start_station_longitude.mean()]\n",
    "    im = get_frame(subset, center, current_datetime)\n",
    "    img.append(im)\n",
    "    start_datetime = current_datetime"
   ]
  },
  {
   "cell_type": "code",
   "execution_count": null,
   "metadata": {},
   "outputs": [],
   "source": [
    "img_crop = []\n",
    "for i in img:\n",
    "    width, height = i.size \n",
    "    img_crop.append(i.crop((0,75,width-200,height-20)))\n",
    "    \n",
    "img_crop[0].save('bixi.gif',save_all=True,append_images=img_crop[1:], duration = 40,loop=0)"
   ]
  }
 ],
 "metadata": {
  "kernelspec": {
   "name": "python37664bitconda6671d4878b6245efada032a414a85fe7",
   "display_name": "Python 3.8.5 64-bit ('anaconda3': conda)"
  },
  "language_info": {
   "codemirror_mode": {
    "name": "ipython",
    "version": 3
   },
   "file_extension": ".py",
   "mimetype": "text/x-python",
   "name": "python",
   "nbconvert_exporter": "python",
   "pygments_lexer": "ipython3",
   "version": "3.8.5-final"
  },
  "metadata": {
   "interpreter": {
    "hash": "dca0ade3e726a953b501b15e8e990130d2b7799f14cfd9f4271676035ebe5511"
   }
  }
 },
 "nbformat": 4,
 "nbformat_minor": 4
}